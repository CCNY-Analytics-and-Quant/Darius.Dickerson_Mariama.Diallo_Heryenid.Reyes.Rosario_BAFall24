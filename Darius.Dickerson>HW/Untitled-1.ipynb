{
 "cells": [
  {
   "cell_type": "code",
   "execution_count": 3,
   "metadata": {},
   "outputs": [
    {
     "ename": "SyntaxError",
     "evalue": "invalid syntax (3702280981.py, line 3)",
     "output_type": "error",
     "traceback": [
      "\u001b[0;36m  Cell \u001b[0;32mIn[3], line 3\u001b[0;36m\u001b[0m\n\u001b[0;31m    Food - $2000\u001b[0m\n\u001b[0m           ^\u001b[0m\n\u001b[0;31mSyntaxError\u001b[0m\u001b[0;31m:\u001b[0m invalid syntax\n"
     ]
    }
   ],
   "source": [
    "## To finance my lifestyle as a retired individual\n",
    "## I have decided I have these expenses monthly:\n",
    "#Food - $2000\n",
    "#Utilities - $1200\n",
    "#Rent - $1000\n",
    "#Misc. Spending - $2000\n",
    "#Travel - 3000\n",
    "\n",
    "#Total - $9200 monthly \n",
    "\n",
    "\n"
   ]
  },
  {
   "cell_type": "code",
   "execution_count": 18,
   "metadata": {},
   "outputs": [
    {
     "name": "stdout",
     "output_type": "stream",
     "text": [
      "20 7000\n",
      "21 12000\n",
      "22 17000\n",
      "23 22000\n",
      "24 27000\n",
      "25 32000\n",
      "26 37000\n",
      "27 42000\n",
      "28 47000\n",
      "29 52000\n",
      "30 57000\n",
      "31 62000\n",
      "32 67000\n",
      "33 72000\n",
      "34 77000\n",
      "35 82000\n",
      "36 87000\n",
      "37 92000\n",
      "38 97000\n",
      "39 102000\n",
      "40 107000\n",
      "41 112000\n",
      "42 117000\n",
      "43 122000\n",
      "44 127000\n",
      "45 132000\n",
      "46 137000\n",
      "47 142000\n",
      "48 147000\n",
      "49 152000\n",
      "50 157000\n",
      "51 162000\n",
      "52 167000\n",
      "53 172000\n",
      "54 177000\n",
      "55 182000\n",
      "56 187000\n",
      "57 192000\n",
      "58 197000\n",
      "59 202000\n",
      "60 207000\n",
      "61 212000\n",
      "62 217000\n",
      "63 222000\n",
      "64 227000\n"
     ]
    }
   ],
   "source": [
    "# Starting retirement values\n",
    "age = 20\n",
    "retirement_age = 65\n",
    "acct_bal = 2000\n",
    " \n",
    " # Retirement Target \n",
    "ret_tgt = 1000000\n",
    "\n",
    "#Function to determine $$ earned by retirement age\n",
    "for age in range(age, retirement_age):\n",
    "        acct_bal += 5000\n",
    "        \n",
    "\n",
    "        print(age, acct_bal)\n"
   ]
  },
  {
   "cell_type": "code",
   "execution_count": null,
   "metadata": {},
   "outputs": [
    {
     "ename": "",
     "evalue": "",
     "output_type": "error",
     "traceback": [
      "\u001b[1;31mFailed to start the Kernel. \n",
      "\u001b[1;31mConnection is disposed. \n",
      "\u001b[1;31mView Jupyter <a href='command:jupyter.viewOutput'>log</a> for further details."
     ]
    }
   ],
   "source": [
    "my_list = (\"this\", \"is\", \"my,\" \"list\")\n",
    "print(my_list)"
   ]
  },
  {
   "cell_type": "code",
   "execution_count": 33,
   "metadata": {},
   "outputs": [
    {
     "ename": "",
     "evalue": "",
     "output_type": "error",
     "traceback": [
      "\u001b[1;31mFailed to start the Kernel. \n",
      "\u001b[1;31mConnection is disposed. \n",
      "\u001b[1;31mView Jupyter <a href='command:jupyter.viewOutput'>log</a> for further details."
     ]
    }
   ],
   "source": [
    "def retirement_contri(acct_bal, my_contri=2000, business_contri=0.03):\n",
    "    acct_bal += my_contri\n",
    "    acct_bal *= (1 + business_contri)\n",
    "\n",
    "    return retirement_contri"
   ]
  },
  {
   "cell_type": "code",
   "execution_count": 35,
   "metadata": {},
   "outputs": [
    {
     "name": "stdout",
     "output_type": "stream",
     "text": [
      "65 <function retirement_contri at 0x1106af4c0>\n"
     ]
    }
   ],
   "source": [
    "## Defining values\n",
    "\n",
    "age = 20\n",
    "retirement_age = 65\n",
    "acct_bal = 2000\n",
    "salary = 60000\n",
    "business_contri = 0.03\n",
    "my_contri = 2000\n",
    "\n",
    "for age in range(age, retirement_age, acct_bal):\n",
    "        \n",
    "\n",
    "        print(retirement_age,)"
   ]
  }
 ],
 "metadata": {
  "kernelspec": {
   "display_name": "Python 3",
   "language": "python",
   "name": "python3"
  },
  "language_info": {
   "codemirror_mode": {
    "name": "ipython",
    "version": 3
   },
   "file_extension": ".py",
   "mimetype": "text/x-python",
   "name": "python",
   "nbconvert_exporter": "python",
   "pygments_lexer": "ipython3",
   "version": "3.9.6"
  }
 },
 "nbformat": 4,
 "nbformat_minor": 2
}
